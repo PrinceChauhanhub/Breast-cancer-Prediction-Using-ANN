{
 "cells": [
  {
   "cell_type": "code",
   "execution_count": 1,
   "metadata": {},
   "outputs": [],
   "source": [
    "import pandas as pd\n",
    "import numpy as np\n",
    "import matplotlib.pyplot as plt\n",
    "import seaborn as sns\n",
    "import tensorflow as tf\n",
    "from tensorflow.keras.models import load_model\n",
    "import pickle\n"
   ]
  },
  {
   "cell_type": "code",
   "execution_count": 2,
   "metadata": {},
   "outputs": [
    {
     "name": "stderr",
     "output_type": "stream",
     "text": [
      "WARNING:absl:Compiled the loaded model, but the compiled metrics have yet to be built. `model.compile_metrics` will be empty until you train or evaluate the model.\n"
     ]
    }
   ],
   "source": [
    "## Load the Trained Model, scaler pickle, onehot encoding\n",
    "model = load_model('model.h5')\n",
    "\n",
    "with open('scaler.pkl','rb') as file:\n",
    "    scaler = pickle.load(file)"
   ]
  },
  {
   "cell_type": "code",
   "execution_count": 4,
   "metadata": {},
   "outputs": [],
   "source": [
    "sample_data = {\n",
    "    'radius_mean': 15.0,\n",
    "    'texture_mean': 18.0,\n",
    "    'smoothness_mean': 0.10,\n",
    "    'compactness_mean': 0.12,\n",
    "    'concavity_mean': 0.08,\n",
    "    'concave points_mean': 0.05,\n",
    "    'symmetry_mean': 0.20,\n",
    "    'fractal_dimension_mean': 0.06,\n",
    "    'radius_se': 0.4,\n",
    "    'texture_se': 1.2,\n",
    "    'smoothness_se': 0.005,\n",
    "    'compactness_se': 0.02,\n",
    "    'concavity_se': 0.03,\n",
    "    'concave points_se': 0.01,\n",
    "    'symmetry_se': 0.02,\n",
    "    'fractal_dimension_se': 0.003,\n",
    "    'radius_worst': 18.0,\n",
    "    'texture_worst': 25.0,\n",
    "    'smoothness_worst': 0.14,\n",
    "    'compactness_worst': 0.25,\n",
    "    'concavity_worst': 0.20,\n",
    "    'concave points_worst': 0.12,\n",
    "    'symmetry_worst': 0.28,\n",
    "    'fractal_dimension_worst': 0.2075\n",
    "}\n",
    "\n",
    "df = pd.DataFrame([sample_data])"
   ]
  },
  {
   "cell_type": "code",
   "execution_count": 5,
   "metadata": {},
   "outputs": [
    {
     "data": {
      "text/plain": [
       "array([[ 2.49825289e-01, -2.78090973e-01,  3.06015991e-01,\n",
       "         3.12532046e-01, -1.12094835e-01,  4.52447170e-02,\n",
       "         6.88394952e-01, -3.82789712e-01, -7.12684225e-03,\n",
       "        -4.96499097e-03, -6.51413739e-01, -3.03204472e-01,\n",
       "        -8.79368024e-02, -3.01238152e-01, -7.02578032e-02,\n",
       "        -2.94696604e-01,  3.67229524e-01, -8.84208376e-02,\n",
       "         3.67256016e-01, -1.77068850e-02, -3.56625386e-01,\n",
       "         8.91555306e-02, -1.66485397e-01,  6.93461072e+00]])"
      ]
     },
     "execution_count": 5,
     "metadata": {},
     "output_type": "execute_result"
    }
   ],
   "source": [
    "input_scaled = scaler.transform(df)\n",
    "input_scaled"
   ]
  },
  {
   "cell_type": "code",
   "execution_count": 6,
   "metadata": {},
   "outputs": [
    {
     "name": "stdout",
     "output_type": "stream",
     "text": [
      "\u001b[1m1/1\u001b[0m \u001b[32m━━━━━━━━━━━━━━━━━━━━\u001b[0m\u001b[37m\u001b[0m \u001b[1m0s\u001b[0m 93ms/step\n"
     ]
    },
    {
     "data": {
      "text/plain": [
       "array([[0.27178448]], dtype=float32)"
      ]
     },
     "execution_count": 6,
     "metadata": {},
     "output_type": "execute_result"
    }
   ],
   "source": [
    "prediction = model.predict(input_scaled)\n",
    "prediction"
   ]
  },
  {
   "cell_type": "code",
   "execution_count": 7,
   "metadata": {},
   "outputs": [],
   "source": [
    "prediction_prob = prediction[0][0]"
   ]
  },
  {
   "cell_type": "code",
   "execution_count": 8,
   "metadata": {},
   "outputs": [
    {
     "name": "stdout",
     "output_type": "stream",
     "text": [
      "The patient has not breast cancer\n"
     ]
    }
   ],
   "source": [
    "if prediction_prob > .5:\n",
    "    print('The patient has breast cance') \n",
    "else:\n",
    "    print(\"The patient has not breast cancer\")"
   ]
  },
  {
   "cell_type": "code",
   "execution_count": null,
   "metadata": {},
   "outputs": [],
   "source": []
  }
 ],
 "metadata": {
  "language_info": {
   "name": "python"
  }
 },
 "nbformat": 4,
 "nbformat_minor": 2
}
